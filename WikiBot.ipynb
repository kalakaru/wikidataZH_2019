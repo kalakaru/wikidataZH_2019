{
 "cells": [
  {
   "cell_type": "code",
   "execution_count": 26,
   "metadata": {
    "ExecuteTime": {
     "end_time": "2019-11-24T14:44:00.936584Z",
     "start_time": "2019-11-24T14:44:00.930580Z"
    }
   },
   "outputs": [],
   "source": [
    "from wikidataintegrator import wdi_core, wdi_login\n",
    "from wikidataintegrator.ref_handlers import update_retrieved_if_new_multiple_refs\n",
    "import pandas as pd\n",
    "import numpy as np\n",
    "import requests\n",
    "from datetime import datetime\n",
    "from time import sleep\n",
    "from random import random"
   ]
  },
  {
   "cell_type": "code",
   "execution_count": 28,
   "metadata": {
    "ExecuteTime": {
     "end_time": "2019-11-24T14:44:07.387182Z",
     "start_time": "2019-11-24T14:44:05.816554Z"
    }
   },
   "outputs": [
    {
     "name": "stdout",
     "output_type": "stream",
     "text": [
      "Logging in...\n",
      "https://www.wikidata.org/w/api.php\n",
      "Successfully logged in as Tlzh\n"
     ]
    }
   ],
   "source": [
    "kantonZH = pd.read_csv('kantonZH.csv', parse_dates=['date'])    \n",
    "kantonZH.head()\n",
    "#[(city['Name']=='Adlikon')]\n",
    "cityZH = pd.read_csv('cityZH.csv', parse_dates=['date'])    \n",
    "cityZH.head()\n",
    "df = cityZH\n",
    "\n",
    "print(\"Logging in...\")\n",
    "#if \"WDUSER\" in os.environ and \"WDPASS\" in os.environ:\n",
    "#    WDUSER = os.environ['WDUSER']\n",
    "#    WDPASS = os.environ['WDPASS']\n",
    "#else:\n",
    "#    raise ValueError(\"WDUSER and WDPASS must be specified in local.py or as environment variables\")\n",
    "login = wdi_login.WDLogin(\"Tlzh\", \"wikiwiki\")"
   ]
  },
  {
   "cell_type": "code",
   "execution_count": 29,
   "metadata": {
    "ExecuteTime": {
     "end_time": "2019-11-24T14:44:08.768164Z",
     "start_time": "2019-11-24T14:44:08.755655Z"
    }
   },
   "outputs": [],
   "source": [
    "# Quelle setzen\n",
    "# Quartier \n",
    "#  Q4115189|P1082|805|P585|+2017-12-31T00:00:00Z/9|P459|Q12483|S854|\"https://data.stadt-zuerich.ch/dataset/bev_bestand_jahr_quartier_seit1970_od3240\"\n",
    "from datetime import datetime\n",
    "import copy\n",
    "def create_reference():\n",
    "    timeStringNow = datetime.now().strftime(\"+%Y-%m-%dT00:00:00Z\")\n",
    "    # Timestamp P585\n",
    "    refRetrieved = wdi_core.WDTime(timeStringNow, prop_nr=\"P813\", is_reference=True)\n",
    "    # URL Source P854\n",
    "    refURL = wdi_core.WDUrl(value=\"https://data.stadt-zuerich.ch/dataset/bev_bestand_jahr_quartier_seit1970_od3240\", \n",
    "                            prop_nr=\"P854\", is_reference=True)\n",
    "\n",
    "    return [refRetrieved, refURL]\n",
    "\n",
    "def create_qualifier(insertDate):\n",
    "    # Point in time P585\n",
    "    insertDate = insertDate.strftime(\"+%Y-%m-%dT00:00:00Z\")\n",
    "    refRetrieved = wdi_core.WDTime(insertDate, prop_nr=\"P585\", is_qualifier=True)\n",
    "    # Statistics P459\n",
    "    bestimmungsmethode = wdi_core.WDItemID(value='Q12483', prop_nr='P459', is_qualifier=True)\n",
    "\n",
    "    return [refRetrieved, bestimmungsmethode]\n"
   ]
  },
  {
   "cell_type": "code",
   "execution_count": 30,
   "metadata": {
    "ExecuteTime": {
     "end_time": "2019-11-24T14:52:42.097957Z",
     "start_time": "2019-11-24T14:44:15.493497Z"
    }
   },
   "outputs": [
    {
     "name": "stdout",
     "output_type": "stream",
     "text": [
      "Insert data value: Q455496 - Höngg - 2010-12-31 00:00:00 : 21179\n",
      "Insert data value: Q455496 - Höngg - 2009-12-31 00:00:00 : 21294\n",
      "Insert data value: Q455496 - Höngg - 2008-12-31 00:00:00 : 21186\n",
      "Insert data value: Q455496 - Höngg - 2007-12-31 00:00:00 : 21075\n",
      "Insert data value: Q455496 - Höngg - 2006-12-31 00:00:00 : 21017\n",
      "Insert data value: Q455496 - Höngg - 2005-12-31 00:00:00 : 20773\n",
      "Insert data value: Q455496 - Höngg - 2004-12-31 00:00:00 : 20856\n",
      "Insert data value: Q455496 - Höngg - 2003-12-31 00:00:00 : 20810\n",
      "Insert data value: Q455496 - Höngg - 2002-12-31 00:00:00 : 20570\n",
      "Insert data value: Q455496 - Höngg - 2001-12-31 00:00:00 : 20588\n",
      "Insert data value: Q455496 - Höngg - 2000-12-31 00:00:00 : 20423\n",
      "Insert data value: Q455496 - Höngg - 1999-12-31 00:00:00 : 20559\n",
      "Insert data value: Q455496 - Höngg - 1998-12-31 00:00:00 : 20054\n",
      "Insert data value: Q455496 - Höngg - 1997-12-31 00:00:00 : 19793\n",
      "Insert data value: Q455496 - Höngg - 1996-12-31 00:00:00 : 19604\n",
      "Insert data value: Q455496 - Höngg - 1995-12-31 00:00:00 : 19243\n",
      "Insert data value: Q455496 - Höngg - 1994-12-31 00:00:00 : 19184\n",
      "Insert data value: Q455496 - Höngg - 1993-12-31 00:00:00 : 19118\n",
      "Insert data value: Q455496 - Höngg - 1992-12-31 00:00:00 : 19290\n",
      "Insert data value: Q455496 - Höngg - 1991-12-31 00:00:00 : 19396\n",
      "Insert data value: Q455496 - Höngg - 1990-12-31 00:00:00 : 19150\n",
      "Insert data value: Q455496 - Höngg - 1989-12-31 00:00:00 : 18936\n",
      "Insert data value: Q455496 - Höngg - 1988-12-31 00:00:00 : 18894\n",
      "Insert data value: Q455496 - Höngg - 1987-12-31 00:00:00 : 18900\n",
      "Insert data value: Q455496 - Höngg - 1986-12-31 00:00:00 : 18958\n",
      "Insert data value: Q455496 - Höngg - 1985-12-31 00:00:00 : 18812\n",
      "Insert data value: Q455496 - Höngg - 1984-12-31 00:00:00 : 18334\n",
      "Insert data value: Q455496 - Höngg - 1983-12-31 00:00:00 : 17716\n",
      "Insert data value: Q455496 - Höngg - 1982-12-31 00:00:00 : 17397\n",
      "Insert data value: Q455496 - Höngg - 1981-12-31 00:00:00 : 17024\n",
      "Insert data value: Q455496 - Höngg - 1980-12-31 00:00:00 : 16953\n",
      "Insert data value: Q455496 - Höngg - 1979-12-31 00:00:00 : 17468\n",
      "Insert data value: Q455496 - Höngg - 1978-12-31 00:00:00 : 17502\n",
      "Insert data value: Q455496 - Höngg - 1977-12-31 00:00:00 : 17556\n",
      "Insert data value: Q455496 - Höngg - 1976-12-31 00:00:00 : 17591\n",
      "Insert data value: Q455496 - Höngg - 1975-12-31 00:00:00 : 17662\n",
      "Insert data value: Q455496 - Höngg - 1974-12-31 00:00:00 : 17276\n",
      "Insert data value: Q455496 - Höngg - 1973-12-31 00:00:00 : 17035\n",
      "Insert data value: Q455496 - Höngg - 1972-12-31 00:00:00 : 17018\n",
      "Insert data value: Q455496 - Höngg - 1971-12-31 00:00:00 : 17027\n",
      "Insert data value: Q455496 - Höngg - 1970-12-31 00:00:00 : 17059\n"
     ]
    }
   ],
   "source": [
    "df = df[df['bool']==False]\n",
    "for i, row in df.iterrows():\n",
    "    print(\"Insert data value: {0} - {1} - {2} : {3}\".format(row['wikidata_id'],row['name'], row['date'], row['population']))\n",
    "    reference = create_reference()\n",
    "    insertDate = datetime(2017,12,31).strftime(\"+%Y-%m-%dT00:00:00Z\")\n",
    "    qualfier = create_qualifier(row['date'])\n",
    "    statement = [wdi_core.WDQuantity(value=row['population'], prop_nr=\"P1082\", references=[copy.deepcopy(reference)], \n",
    "                                     rank='normal', qualifiers=copy.deepcopy(qualfier), check_qualifier_equality=False)]\n",
    "    wd_item = wdi_core.WDItemEngine(data=statement,wd_item_id=row['wikidata_id'], new_item=False, fast_run=False, append_value=['P1082'])\n",
    "    wd_item.write(login)\n",
    "    sleep(8 + random())"
   ]
  },
  {
   "cell_type": "code",
   "execution_count": null,
   "metadata": {
    "ExecuteTime": {
     "end_time": "2019-11-24T14:36:44.461792Z",
     "start_time": "2019-11-24T14:36:44.456789Z"
    }
   },
   "outputs": [],
   "source": []
  },
  {
   "cell_type": "code",
   "execution_count": null,
   "metadata": {},
   "outputs": [],
   "source": []
  }
 ],
 "metadata": {
  "kernelspec": {
   "display_name": "Python 3",
   "language": "python",
   "name": "python3"
  },
  "language_info": {
   "codemirror_mode": {
    "name": "ipython",
    "version": 3
   },
   "file_extension": ".py",
   "mimetype": "text/x-python",
   "name": "python",
   "nbconvert_exporter": "python",
   "pygments_lexer": "ipython3",
   "version": "3.7.1"
  }
 },
 "nbformat": 4,
 "nbformat_minor": 2
}

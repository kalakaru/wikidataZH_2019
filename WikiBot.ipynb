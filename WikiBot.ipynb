{
 "cells": [
  {
   "cell_type": "code",
   "execution_count": 1,
   "metadata": {
    "ExecuteTime": {
     "end_time": "2019-11-24T16:04:41.590583Z",
     "start_time": "2019-11-24T16:04:13.406326Z"
    }
   },
   "outputs": [],
   "source": [
    "from wikidataintegrator import wdi_core, wdi_login\n",
    "from wikidataintegrator.ref_handlers import update_retrieved_if_new_multiple_refs\n",
    "import pandas as pd\n",
    "import numpy as np\n",
    "import requests\n",
    "from datetime import datetime\n",
    "from time import sleep\n",
    "from random import random"
   ]
  },
  {
   "cell_type": "code",
   "execution_count": 2,
   "metadata": {
    "ExecuteTime": {
     "end_time": "2019-11-24T16:04:43.825939Z",
     "start_time": "2019-11-24T16:04:41.592569Z"
    }
   },
   "outputs": [
    {
     "name": "stdout",
     "output_type": "stream",
     "text": [
      "Logging in...\n",
      "https://www.wikidata.org/w/api.php\n",
      "Successfully logged in as Tlzh\n"
     ]
    }
   ],
   "source": [
    "kantonZH = pd.read_csv('kantonZH.csv', parse_dates=['date'])    \n",
    "kantonZH.head()\n",
    "#[(city['Name']=='Adlikon')]\n",
    "cityZH = pd.read_csv('cityZH.csv', parse_dates=['date'])    \n",
    "cityZH.head()\n",
    "df = cityZH\n",
    "\n",
    "print(\"Logging in...\")\n",
    "#if \"WDUSER\" in os.environ and \"WDPASS\" in os.environ:\n",
    "#    WDUSER = os.environ['WDUSER']\n",
    "#    WDPASS = os.environ['WDPASS']\n",
    "#else:\n",
    "#    raise ValueError(\"WDUSER and WDPASS must be specified in local.py or as environment variables\")\n",
    "user = \"Tlzh\"\n",
    "password = \"wikiwiki\"\n",
    "login = wdi_login.WDLogin(user, password)"
   ]
  },
  {
   "cell_type": "code",
   "execution_count": 3,
   "metadata": {
    "ExecuteTime": {
     "end_time": "2019-11-24T16:04:43.837910Z",
     "start_time": "2019-11-24T16:04:43.828888Z"
    }
   },
   "outputs": [],
   "source": [
    "# Quelle setzen\n",
    "# Quartier \n",
    "#  Q4115189|P1082|805|P585|+2017-12-31T00:00:00Z/9|P459|Q12483|S854|\"https://data.stadt-zuerich.ch/dataset/bev_bestand_jahr_quartier_seit1970_od3240\"\n",
    "from datetime import datetime\n",
    "import copy\n",
    "def create_reference():\n",
    "    timeStringNow = datetime.now().strftime(\"+%Y-%m-%dT00:00:00Z\")\n",
    "    # Timestamp P585\n",
    "    refRetrieved = wdi_core.WDTime(timeStringNow, prop_nr=\"P813\", is_reference=True)\n",
    "    # URL Source P854\n",
    "    refURL = wdi_core.WDUrl(value=\"https://data.stadt-zuerich.ch/dataset/bev_bestand_jahr_quartier_seit1970_od3240\", \n",
    "                            prop_nr=\"P854\", is_reference=True)\n",
    "\n",
    "    return [refRetrieved, refURL]\n",
    "\n",
    "def create_qualifier(insertDate):\n",
    "    # Point in time P585\n",
    "    insertDate = insertDate.strftime(\"+%Y-%m-%dT00:00:00Z\")\n",
    "    refRetrieved = wdi_core.WDTime(insertDate, prop_nr=\"P585\", is_qualifier=True)\n",
    "    # Statistics P459\n",
    "    bestimmungsmethode = wdi_core.WDItemID(value='Q12483', prop_nr='P459', is_qualifier=True)\n",
    "\n",
    "    return [refRetrieved, bestimmungsmethode]\n"
   ]
  },
  {
   "cell_type": "code",
   "execution_count": 4,
   "metadata": {
    "ExecuteTime": {
     "end_time": "2019-11-24T16:06:54.488563Z",
     "start_time": "2019-11-24T16:04:43.840896Z"
    }
   },
   "outputs": [
    {
     "name": "stdout",
     "output_type": "stream",
     "text": [
      "Number of inserts:  34\n",
      "Insert data value: Q693374 - Hirzenbach - 2018-12-31 00:00:00 : 12801\n",
      "Insert data value: Q692728 - Schwamendingen-Mitte - 2018-12-31 00:00:00 : 11100\n",
      "Insert data value: Q652455 - Saatlen - 2018-12-31 00:00:00 : 8582\n",
      "Insert data value: Q276792 - Seebach - 2018-12-31 00:00:00 : 25568\n",
      "Insert data value: Q167179 - Oerlikon - 2018-12-31 00:00:00 : 23214\n",
      "Insert data value: Q382903 - Affoltern - 2018-12-31 00:00:00 : 26562\n",
      "Insert data value: Q678030 - Wipkingen - 2018-12-31 00:00:00 : 16321\n",
      "Insert data value: Q445711 - Altstetten - 2018-12-31 00:00:00 : 33461\n",
      "Insert data value: Q80797 - Albisrieden - 2018-12-31 00:00:00 : 22304\n",
      "Insert data value: Q693321 - Weinegg - 2018-12-31 00:00:00 : 5220\n",
      "Insert data value: Q693397 - Mühlebach - 2018-12-31 00:00:00 : 6315\n",
      "Insert data value: Q692773 - Seefeld - 2018-12-31 00:00:00 : 5253\n",
      "Insert data value: Q392079 - Witikon - 2018-12-31 00:00:00 : 10953\n",
      "Insert data value: Q476940 - Hirslanden - 2018-12-31 00:00:00 : 7488\n",
      "Insert data value: Q693454 - Hottingen - 2018-12-31 00:00:00 : 11265\n",
      "Insert data value: Q693269 - Fluntern - 2018-12-31 00:00:00 : 8485\n",
      "Insert data value: Q693483 - Oberstrass - 2018-12-31 00:00:00 : 10927\n",
      "Insert data value: Q656446 - Unterstrass - 2018-12-31 00:00:00 : 23394\n",
      "Insert data value: Q687052 - Escher Wyss - 2018-12-31 00:00:00 : 6066\n",
      "Insert data value: Q693413 - Gewerbeschule - 2018-12-31 00:00:00 : 9513\n",
      "Insert data value: Q870084 - Hard - 2018-12-31 00:00:00 : 13163\n",
      "Insert data value: Q1805410 - Langstrasse - 2018-12-31 00:00:00 : 11111\n",
      "Insert data value: Q531899 - Werd - 2018-12-31 00:00:00 : 4455\n",
      "Insert data value: Q370104 - Sihlfeld - 2018-12-31 00:00:00 : 21680\n",
      "Insert data value: Q693357 - Friesenberg - 2018-12-31 00:00:00 : 10933\n",
      "Insert data value: Q433012 - Alt-Wiedikon - 2018-12-31 00:00:00 : 17956\n",
      "Insert data value: Q648218 - Enge - 2018-12-31 00:00:00 : 9634\n",
      "Insert data value: Q691367 - Leimbach - 2018-12-31 00:00:00 : 6320\n",
      "Insert data value: Q642353 - Wollishofen - 2018-12-31 00:00:00 : 18923\n",
      "Insert data value: Q1093831 - City - 2018-12-31 00:00:00 : 829\n",
      "Insert data value: Q1093831 - City - 1974-12-31 00:00:00 : 1132\n",
      "Insert data value: Q10987378 - Lindenhof - 2018-12-31 00:00:00 : 990\n",
      "Insert data value: Q39240 - Hochschulen - 2018-12-31 00:00:00 : 664\n",
      "Insert data value: Q692511 - Rathaus - 2018-12-31 00:00:00 : 3267\n"
     ]
    }
   ],
   "source": [
    "df = df[df['bool']==False]\n",
    "print(\"Number of inserts: \", str(df['bool'].count()))\n",
    "for i, row in df.iterrows():\n",
    "    print(\"Insert data value: {0} - {1} - {2} : {3}\".format(row['wikidata_id'],row['name'], row['date'], row['population']))\n",
    "    reference = create_reference()\n",
    "    insertDate = datetime(2017,12,31).strftime(\"+%Y-%m-%dT00:00:00Z\")\n",
    "    qualfier = create_qualifier(row['date'])\n",
    "    statement = [wdi_core.WDQuantity(value=row['population'], prop_nr=\"P1082\", references=[copy.deepcopy(reference)], \n",
    "                                     rank='normal', qualifiers=copy.deepcopy(qualfier), check_qualifier_equality=False)]\n",
    "    wd_item = wdi_core.WDItemEngine(data=statement,wd_item_id=row['wikidata_id'], new_item=False, fast_run=False, append_value=['P1082'])\n",
    "    wd_item.write(login)"
   ]
  },
  {
   "cell_type": "code",
   "execution_count": null,
   "metadata": {},
   "outputs": [],
   "source": []
  }
 ],
 "metadata": {
  "kernelspec": {
   "display_name": "Python 3",
   "language": "python",
   "name": "python3"
  },
  "language_info": {
   "codemirror_mode": {
    "name": "ipython",
    "version": 3
   },
   "file_extension": ".py",
   "mimetype": "text/x-python",
   "name": "python",
   "nbconvert_exporter": "python",
   "pygments_lexer": "ipython3",
   "version": "3.7.1"
  }
 },
 "nbformat": 4,
 "nbformat_minor": 2
}

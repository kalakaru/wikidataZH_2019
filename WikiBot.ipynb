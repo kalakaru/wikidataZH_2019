{
 "cells": [
  {
   "cell_type": "code",
   "execution_count": 1,
   "metadata": {
    "ExecuteTime": {
     "end_time": "2019-11-24T10:34:20.666551Z",
     "start_time": "2019-11-24T10:33:29.444984Z"
    }
   },
   "outputs": [],
   "source": [
    "from wikidataintegrator import wdi_core, wdi_login\n",
    "from wikidataintegrator.ref_handlers import update_retrieved_if_new_multiple_refs\n",
    "import pandas as pd\n",
    "import numpy as np\n",
    "import requests"
   ]
  },
  {
   "cell_type": "code",
   "execution_count": 84,
   "metadata": {
    "ExecuteTime": {
     "end_time": "2019-11-24T13:09:10.495909Z",
     "start_time": "2019-11-24T13:09:10.448865Z"
    }
   },
   "outputs": [
    {
     "data": {
      "text/html": [
       "<div>\n",
       "<style scoped>\n",
       "    .dataframe tbody tr th:only-of-type {\n",
       "        vertical-align: middle;\n",
       "    }\n",
       "\n",
       "    .dataframe tbody tr th {\n",
       "        vertical-align: top;\n",
       "    }\n",
       "\n",
       "    .dataframe thead th {\n",
       "        text-align: right;\n",
       "    }\n",
       "</style>\n",
       "<table border=\"1\" class=\"dataframe\">\n",
       "  <thead>\n",
       "    <tr style=\"text-align: right;\">\n",
       "      <th></th>\n",
       "      <th>Unnamed: 0</th>\n",
       "      <th>date</th>\n",
       "      <th>id</th>\n",
       "      <th>name</th>\n",
       "      <th>population</th>\n",
       "      <th>wikidata_id</th>\n",
       "      <th>check</th>\n",
       "      <th>bool</th>\n",
       "    </tr>\n",
       "  </thead>\n",
       "  <tbody>\n",
       "    <tr>\n",
       "      <th>0</th>\n",
       "      <td>0</td>\n",
       "      <td>2018-12-31</td>\n",
       "      <td>123</td>\n",
       "      <td>Hirzenbach</td>\n",
       "      <td>12801</td>\n",
       "      <td>Q693374</td>\n",
       "      <td>2018-12-31---Q693374</td>\n",
       "      <td>False</td>\n",
       "    </tr>\n",
       "    <tr>\n",
       "      <th>1</th>\n",
       "      <td>1</td>\n",
       "      <td>2017-12-31</td>\n",
       "      <td>123</td>\n",
       "      <td>Hirzenbach</td>\n",
       "      <td>12627</td>\n",
       "      <td>Q693374</td>\n",
       "      <td>2017-12-31---Q693374</td>\n",
       "      <td>False</td>\n",
       "    </tr>\n",
       "    <tr>\n",
       "      <th>2</th>\n",
       "      <td>2</td>\n",
       "      <td>2016-12-31</td>\n",
       "      <td>123</td>\n",
       "      <td>Hirzenbach</td>\n",
       "      <td>12463</td>\n",
       "      <td>Q693374</td>\n",
       "      <td>2016-12-31---Q693374</td>\n",
       "      <td>False</td>\n",
       "    </tr>\n",
       "    <tr>\n",
       "      <th>3</th>\n",
       "      <td>3</td>\n",
       "      <td>2015-12-31</td>\n",
       "      <td>123</td>\n",
       "      <td>Hirzenbach</td>\n",
       "      <td>11930</td>\n",
       "      <td>Q693374</td>\n",
       "      <td>2015-12-31---Q693374</td>\n",
       "      <td>False</td>\n",
       "    </tr>\n",
       "    <tr>\n",
       "      <th>4</th>\n",
       "      <td>4</td>\n",
       "      <td>2014-12-31</td>\n",
       "      <td>123</td>\n",
       "      <td>Hirzenbach</td>\n",
       "      <td>11679</td>\n",
       "      <td>Q693374</td>\n",
       "      <td>2014-12-31---Q693374</td>\n",
       "      <td>False</td>\n",
       "    </tr>\n",
       "  </tbody>\n",
       "</table>\n",
       "</div>"
      ],
      "text/plain": [
       "   Unnamed: 0        date   id        name  population wikidata_id  \\\n",
       "0           0  2018-12-31  123  Hirzenbach       12801     Q693374   \n",
       "1           1  2017-12-31  123  Hirzenbach       12627     Q693374   \n",
       "2           2  2016-12-31  123  Hirzenbach       12463     Q693374   \n",
       "3           3  2015-12-31  123  Hirzenbach       11930     Q693374   \n",
       "4           4  2014-12-31  123  Hirzenbach       11679     Q693374   \n",
       "\n",
       "                  check   bool  \n",
       "0  2018-12-31---Q693374  False  \n",
       "1  2017-12-31---Q693374  False  \n",
       "2  2016-12-31---Q693374  False  \n",
       "3  2015-12-31---Q693374  False  \n",
       "4  2014-12-31---Q693374  False  "
      ]
     },
     "execution_count": 84,
     "metadata": {},
     "output_type": "execute_result"
    }
   ],
   "source": [
    "kantonZH = pd.read_csv('kantonZH.csv')    \n",
    "kantonZH.head()\n",
    "#[(city['Name']=='Adlikon')]\n",
    "cityZH = pd.read_csv('cityZH.csv')    \n",
    "cityZH.head()"
   ]
  },
  {
   "cell_type": "code",
   "execution_count": 88,
   "metadata": {
    "ExecuteTime": {
     "end_time": "2019-11-24T13:49:24.278185Z",
     "start_time": "2019-11-24T13:49:23.149013Z"
    },
    "collapsed": true
   },
   "outputs": [
    {
     "name": "stdout",
     "output_type": "stream",
     "text": [
      "Logging in...\n",
      "https://www.wikidata.org/w/api.php\n",
      "login failed: Incorrect username or password entered. Please try again.\n"
     ]
    },
    {
     "ename": "ValueError",
     "evalue": "login FAILED!!",
     "output_type": "error",
     "traceback": [
      "\u001b[1;31m---------------------------------------------------------------------------\u001b[0m",
      "\u001b[1;31mValueError\u001b[0m                                Traceback (most recent call last)",
      "\u001b[1;32m<ipython-input-88-f1bbef63aafe>\u001b[0m in \u001b[0;36m<module>\u001b[1;34m\u001b[0m\n\u001b[0;32m      8\u001b[0m \u001b[0mpassword\u001b[0m \u001b[1;33m=\u001b[0m \u001b[1;34m'password'\u001b[0m\u001b[1;33m\u001b[0m\u001b[1;33m\u001b[0m\u001b[0m\n\u001b[0;32m      9\u001b[0m \u001b[1;33m\u001b[0m\u001b[0m\n\u001b[1;32m---> 10\u001b[1;33m \u001b[0mlogin\u001b[0m \u001b[1;33m=\u001b[0m \u001b[0mwdi_login\u001b[0m\u001b[1;33m.\u001b[0m\u001b[0mWDLogin\u001b[0m\u001b[1;33m(\u001b[0m\u001b[0muser\u001b[0m\u001b[1;33m,\u001b[0m \u001b[0mpassword\u001b[0m\u001b[1;33m)\u001b[0m\u001b[1;33m\u001b[0m\u001b[1;33m\u001b[0m\u001b[0m\n\u001b[0m",
      "\u001b[1;32m~\\AppData\\Local\\Programs\\Python\\Python37\\lib\\site-packages\\wikidataintegrator\\backoff\\backoff.py\u001b[0m in \u001b[0;36mretry\u001b[1;34m(*args, **kwargs)\u001b[0m\n\u001b[0;32m    284\u001b[0m                 \u001b[1;32mtry\u001b[0m\u001b[1;33m:\u001b[0m\u001b[1;33m\u001b[0m\u001b[1;33m\u001b[0m\u001b[0m\n\u001b[0;32m    285\u001b[0m                     \u001b[0mtries\u001b[0m \u001b[1;33m+=\u001b[0m \u001b[1;36m1\u001b[0m\u001b[1;33m\u001b[0m\u001b[1;33m\u001b[0m\u001b[0m\n\u001b[1;32m--> 286\u001b[1;33m                     \u001b[0mret\u001b[0m \u001b[1;33m=\u001b[0m \u001b[0mtarget\u001b[0m\u001b[1;33m(\u001b[0m\u001b[1;33m*\u001b[0m\u001b[0margs\u001b[0m\u001b[1;33m,\u001b[0m \u001b[1;33m**\u001b[0m\u001b[0mkwargs\u001b[0m\u001b[1;33m)\u001b[0m\u001b[1;33m\u001b[0m\u001b[1;33m\u001b[0m\u001b[0m\n\u001b[0m\u001b[0;32m    287\u001b[0m                 \u001b[1;32mexcept\u001b[0m \u001b[0mexception\u001b[0m \u001b[1;32mas\u001b[0m \u001b[0me\u001b[0m\u001b[1;33m:\u001b[0m\u001b[1;33m\u001b[0m\u001b[1;33m\u001b[0m\u001b[0m\n\u001b[0;32m    288\u001b[0m                     \u001b[1;32mif\u001b[0m \u001b[0mgiveup\u001b[0m\u001b[1;33m(\u001b[0m\u001b[0me\u001b[0m\u001b[1;33m)\u001b[0m \u001b[1;32mor\u001b[0m \u001b[0mtries\u001b[0m \u001b[1;33m==\u001b[0m \u001b[0mmax_tries_\u001b[0m\u001b[1;33m:\u001b[0m\u001b[1;33m\u001b[0m\u001b[1;33m\u001b[0m\u001b[0m\n",
      "\u001b[1;32m~\\AppData\\Local\\Programs\\Python\\Python37\\lib\\site-packages\\wikidataintegrator\\wdi_login.py\u001b[0m in \u001b[0;36m__init__\u001b[1;34m(self, user, pwd, mediawiki_api_url, token_renew_period, use_clientlogin, consumer_key, consumer_secret, callback_url, user_agent)\u001b[0m\n\u001b[0;32m    136\u001b[0m             \u001b[1;32mif\u001b[0m \u001b[0mr\u001b[0m\u001b[1;33m[\u001b[0m\u001b[1;34m'login'\u001b[0m\u001b[1;33m]\u001b[0m\u001b[1;33m[\u001b[0m\u001b[1;34m'result'\u001b[0m\u001b[1;33m]\u001b[0m \u001b[1;33m!=\u001b[0m \u001b[1;34m'Success'\u001b[0m\u001b[1;33m:\u001b[0m\u001b[1;33m\u001b[0m\u001b[1;33m\u001b[0m\u001b[0m\n\u001b[0;32m    137\u001b[0m                 \u001b[0mprint\u001b[0m\u001b[1;33m(\u001b[0m\u001b[1;34m'login failed:'\u001b[0m\u001b[1;33m,\u001b[0m \u001b[0mr\u001b[0m\u001b[1;33m[\u001b[0m\u001b[1;34m'login'\u001b[0m\u001b[1;33m]\u001b[0m\u001b[1;33m[\u001b[0m\u001b[1;34m'reason'\u001b[0m\u001b[1;33m]\u001b[0m\u001b[1;33m)\u001b[0m\u001b[1;33m\u001b[0m\u001b[1;33m\u001b[0m\u001b[0m\n\u001b[1;32m--> 138\u001b[1;33m                 \u001b[1;32mraise\u001b[0m \u001b[0mValueError\u001b[0m\u001b[1;33m(\u001b[0m\u001b[1;34m'login FAILED!!'\u001b[0m\u001b[1;33m)\u001b[0m\u001b[1;33m\u001b[0m\u001b[1;33m\u001b[0m\u001b[0m\n\u001b[0m\u001b[0;32m    139\u001b[0m             \u001b[1;32melse\u001b[0m\u001b[1;33m:\u001b[0m\u001b[1;33m\u001b[0m\u001b[1;33m\u001b[0m\u001b[0m\n\u001b[0;32m    140\u001b[0m                 \u001b[0mprint\u001b[0m\u001b[1;33m(\u001b[0m\u001b[1;34m'Successfully logged in as'\u001b[0m\u001b[1;33m,\u001b[0m \u001b[0mr\u001b[0m\u001b[1;33m[\u001b[0m\u001b[1;34m'login'\u001b[0m\u001b[1;33m]\u001b[0m\u001b[1;33m[\u001b[0m\u001b[1;34m'lgusername'\u001b[0m\u001b[1;33m]\u001b[0m\u001b[1;33m)\u001b[0m\u001b[1;33m\u001b[0m\u001b[1;33m\u001b[0m\u001b[0m\n",
      "\u001b[1;31mValueError\u001b[0m: login FAILED!!"
     ]
    }
   ],
   "source": [
    "print(\"Logging in...\")\n",
    "#if \"WDUSER\" in os.environ and \"WDPASS\" in os.environ:\n",
    "#    WDUSER = os.environ['WDUSER']\n",
    "#    WDPASS = os.environ['WDPASS']\n",
    "#else:\n",
    "#    raise ValueError(\"WDUSER and WDPASS must be specified in local.py or as environment variables\")\n",
    "user = 'user'\n",
    "password = 'password'\n",
    "\n",
    "login = wdi_login.WDLogin(user, password)"
   ]
  },
  {
   "cell_type": "code",
   "execution_count": 86,
   "metadata": {
    "ExecuteTime": {
     "end_time": "2019-11-24T13:10:06.267099Z",
     "start_time": "2019-11-24T13:10:06.259095Z"
    }
   },
   "outputs": [],
   "source": [
    "# Quelle setzen\n",
    "# Quartier \n",
    "#  Q4115189|P1082|805|P585|+2017-12-31T00:00:00Z/9|P459|Q12483|S854|\"https://data.stadt-zuerich.ch/dataset/bev_bestand_jahr_quartier_seit1970_od3240\"\n",
    "from datetime import datetime\n",
    "import copy\n",
    "def create_reference():\n",
    "    timeStringNow = datetime.now().strftime(\"+%Y-%m-%dT00:00:00Z\")\n",
    "    # Timestamp P585\n",
    "    refRetrieved = wdi_core.WDTime(timeStringNow, prop_nr=\"P813\", is_reference=True)\n",
    "    # URL Source P854\n",
    "    refURL = wdi_core.WDUrl(value=\"https://data.stadt-zuerich.ch/dataset/bev_bestand_jahr_quartier_seit1970_od3240\", \n",
    "                            prop_nr=\"P854\", is_reference=True)\n",
    "\n",
    "    return [refRetrieved, refURL]\n",
    "\n",
    "def create_qualifier(insertDate):\n",
    "    # Point in time P585\n",
    "    refRetrieved = wdi_core.WDTime(insertDate, prop_nr=\"P585\", is_qualifier=True)\n",
    "    # Statistics P459\n",
    "    bestimmungsmethode = wdi_core.WDItemID(value='Q12483', prop_nr='P459', is_qualifier=True)\n",
    "\n",
    "    return [refRetrieved, bestimmungsmethode]\n"
   ]
  },
  {
   "cell_type": "code",
   "execution_count": 87,
   "metadata": {
    "ExecuteTime": {
     "end_time": "2019-11-24T13:10:09.896799Z",
     "start_time": "2019-11-24T13:10:07.376509Z"
    }
   },
   "outputs": [
    {
     "data": {
      "text/plain": [
       "'Q455496'"
      ]
     },
     "execution_count": 87,
     "metadata": {},
     "output_type": "execute_result"
    }
   ],
   "source": [
    "reference = create_reference()\n",
    "insertDate = datetime(2017,12,31).strftime(\"+%Y-%m-%dT00:00:00Z\")\n",
    "qualfier = create_qualifier(insertDate)\n",
    "statement = [wdi_core.WDQuantity(value=23797, prop_nr=\"P1082\", references=[copy.deepcopy(reference)], \n",
    "                                 rank='preferred', qualifiers=copy.deepcopy(qualfier), check_qualifier_equality=False)]\n",
    "# Q von Höngg --> quartier\n",
    "wd_item = wdi_core.WDItemEngine(data=statement,wd_item_id='Q455496', new_item=False, fast_run=False, append_value=['P1082'])\n",
    "wd_item.write(login)"
   ]
  },
  {
   "cell_type": "code",
   "execution_count": null,
   "metadata": {},
   "outputs": [],
   "source": []
  }
 ],
 "metadata": {
  "kernelspec": {
   "display_name": "Python 3",
   "language": "python",
   "name": "python3"
  },
  "language_info": {
   "codemirror_mode": {
    "name": "ipython",
    "version": 3
   },
   "file_extension": ".py",
   "mimetype": "text/x-python",
   "name": "python",
   "nbconvert_exporter": "python",
   "pygments_lexer": "ipython3",
   "version": "3.7.1"
  }
 },
 "nbformat": 4,
 "nbformat_minor": 2
}

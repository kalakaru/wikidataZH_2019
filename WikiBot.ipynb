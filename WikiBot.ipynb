{
 "cells": [
  {
   "cell_type": "code",
   "execution_count": 1,
   "metadata": {
    "ExecuteTime": {
     "end_time": "2019-11-24T10:34:20.666551Z",
     "start_time": "2019-11-24T10:33:29.444984Z"
    }
   },
   "outputs": [],
   "source": [
    "from wikidataintegrator import wdi_core, wdi_login\n",
    "from wikidataintegrator.ref_handlers import update_retrieved_if_new_multiple_refs\n",
    "import pandas as pd\n",
    "import numpy as np\n",
    "import requests"
   ]
  },
  {
   "cell_type": "code",
   "execution_count": 84,
   "metadata": {
    "ExecuteTime": {
     "end_time": "2019-11-24T13:09:10.495909Z",
     "start_time": "2019-11-24T13:09:10.448865Z"
    }
   },
   "outputs": [
    {
     "data": {
      "text/html": [
       "<div>\n",
       "<style scoped>\n",
       "    .dataframe tbody tr th:only-of-type {\n",
       "        vertical-align: middle;\n",
       "    }\n",
       "\n",
       "    .dataframe tbody tr th {\n",
       "        vertical-align: top;\n",
       "    }\n",
       "\n",
       "    .dataframe thead th {\n",
       "        text-align: right;\n",
       "    }\n",
       "</style>\n",
       "<table border=\"1\" class=\"dataframe\">\n",
       "  <thead>\n",
       "    <tr style=\"text-align: right;\">\n",
       "      <th></th>\n",
       "      <th>Unnamed: 0</th>\n",
       "      <th>date</th>\n",
       "      <th>id</th>\n",
       "      <th>name</th>\n",
       "      <th>population</th>\n",
       "      <th>wikidata_id</th>\n",
       "      <th>check</th>\n",
       "      <th>bool</th>\n",
       "    </tr>\n",
       "  </thead>\n",
       "  <tbody>\n",
       "    <tr>\n",
       "      <th>0</th>\n",
       "      <td>0</td>\n",
       "      <td>2018-12-31</td>\n",
       "      <td>123</td>\n",
       "      <td>Hirzenbach</td>\n",
       "      <td>12801</td>\n",
       "      <td>Q693374</td>\n",
       "      <td>2018-12-31---Q693374</td>\n",
       "      <td>False</td>\n",
       "    </tr>\n",
       "    <tr>\n",
       "      <th>1</th>\n",
       "      <td>1</td>\n",
       "      <td>2017-12-31</td>\n",
       "      <td>123</td>\n",
       "      <td>Hirzenbach</td>\n",
       "      <td>12627</td>\n",
       "      <td>Q693374</td>\n",
       "      <td>2017-12-31---Q693374</td>\n",
       "      <td>False</td>\n",
       "    </tr>\n",
       "    <tr>\n",
       "      <th>2</th>\n",
       "      <td>2</td>\n",
       "      <td>2016-12-31</td>\n",
       "      <td>123</td>\n",
       "      <td>Hirzenbach</td>\n",
       "      <td>12463</td>\n",
       "      <td>Q693374</td>\n",
       "      <td>2016-12-31---Q693374</td>\n",
       "      <td>False</td>\n",
       "    </tr>\n",
       "    <tr>\n",
       "      <th>3</th>\n",
       "      <td>3</td>\n",
       "      <td>2015-12-31</td>\n",
       "      <td>123</td>\n",
       "      <td>Hirzenbach</td>\n",
       "      <td>11930</td>\n",
       "      <td>Q693374</td>\n",
       "      <td>2015-12-31---Q693374</td>\n",
       "      <td>False</td>\n",
       "    </tr>\n",
       "    <tr>\n",
       "      <th>4</th>\n",
       "      <td>4</td>\n",
       "      <td>2014-12-31</td>\n",
       "      <td>123</td>\n",
       "      <td>Hirzenbach</td>\n",
       "      <td>11679</td>\n",
       "      <td>Q693374</td>\n",
       "      <td>2014-12-31---Q693374</td>\n",
       "      <td>False</td>\n",
       "    </tr>\n",
       "  </tbody>\n",
       "</table>\n",
       "</div>"
      ],
      "text/plain": [
       "   Unnamed: 0        date   id        name  population wikidata_id  \\\n",
       "0           0  2018-12-31  123  Hirzenbach       12801     Q693374   \n",
       "1           1  2017-12-31  123  Hirzenbach       12627     Q693374   \n",
       "2           2  2016-12-31  123  Hirzenbach       12463     Q693374   \n",
       "3           3  2015-12-31  123  Hirzenbach       11930     Q693374   \n",
       "4           4  2014-12-31  123  Hirzenbach       11679     Q693374   \n",
       "\n",
       "                  check   bool  \n",
       "0  2018-12-31---Q693374  False  \n",
       "1  2017-12-31---Q693374  False  \n",
       "2  2016-12-31---Q693374  False  \n",
       "3  2015-12-31---Q693374  False  \n",
       "4  2014-12-31---Q693374  False  "
      ]
     },
     "execution_count": 84,
     "metadata": {},
     "output_type": "execute_result"
    }
   ],
   "source": [
    "kantonZH = pd.read_csv('kantonZH.csv')    \n",
    "kantonZH.head()\n",
    "#[(city['Name']=='Adlikon')]\n",
    "cityZH = pd.read_csv('cityZH.csv')    \n",
    "cityZH.head()"
   ]
  },
  {
   "cell_type": "code",
   "execution_count": 75,
   "metadata": {
    "ExecuteTime": {
     "end_time": "2019-11-24T13:01:23.137078Z",
     "start_time": "2019-11-24T13:01:21.491005Z"
    }
   },
   "outputs": [
    {
     "name": "stdout",
     "output_type": "stream",
     "text": [
      "Logging in...\n",
      "https://www.wikidata.org/w/api.php\n",
      "Successfully logged in as Tlzh\n"
     ]
    }
   ],
   "source": [
    "print(\"Logging in...\")\n",
    "#if \"WDUSER\" in os.environ and \"WDPASS\" in os.environ:\n",
    "#    WDUSER = os.environ['WDUSER']\n",
    "#    WDPASS = os.environ['WDPASS']\n",
    "#else:\n",
    "#    raise ValueError(\"WDUSER and WDPASS must be specified in local.py or as environment variables\")\n",
    "login = wdi_login.WDLogin(\"Tlzh\", \"wikiwiki\")"
   ]
  },
  {
   "cell_type": "code",
   "execution_count": 86,
   "metadata": {
    "ExecuteTime": {
     "end_time": "2019-11-24T13:10:06.267099Z",
     "start_time": "2019-11-24T13:10:06.259095Z"
    }
   },
   "outputs": [],
   "source": [
    "# Quelle setzen\n",
    "# Quartier \n",
    "#  Q4115189|P1082|805|P585|+2017-12-31T00:00:00Z/9|P459|Q12483|S854|\"https://data.stadt-zuerich.ch/dataset/bev_bestand_jahr_quartier_seit1970_od3240\"\n",
    "from datetime import datetime\n",
    "import copy\n",
    "def create_reference():\n",
    "    timeStringNow = datetime.now().strftime(\"+%Y-%m-%dT00:00:00Z\")\n",
    "    # Timestamp P585\n",
    "    refRetrieved = wdi_core.WDTime(timeStringNow, prop_nr=\"P813\", is_reference=True)\n",
    "    # URL Source P854\n",
    "    refURL = wdi_core.WDUrl(value=\"https://data.stadt-zuerich.ch/dataset/bev_bestand_jahr_quartier_seit1970_od3240\", \n",
    "                            prop_nr=\"P854\", is_reference=True)\n",
    "\n",
    "    return [refRetrieved, refURL]\n",
    "\n",
    "def create_qualifier(insertDate):\n",
    "    # Point in time P585\n",
    "    refRetrieved = wdi_core.WDTime(insertDate, prop_nr=\"P585\", is_qualifier=True)\n",
    "    # Statistics P459\n",
    "    bestimmungsmethode = wdi_core.WDItemID(value='Q12483', prop_nr='P459', is_qualifier=True)\n",
    "\n",
    "    return [refRetrieved, bestimmungsmethode]\n"
   ]
  },
  {
   "cell_type": "code",
   "execution_count": 87,
   "metadata": {
    "ExecuteTime": {
     "end_time": "2019-11-24T13:10:09.896799Z",
     "start_time": "2019-11-24T13:10:07.376509Z"
    }
   },
   "outputs": [
    {
     "data": {
      "text/plain": [
       "'Q455496'"
      ]
     },
     "execution_count": 87,
     "metadata": {},
     "output_type": "execute_result"
    }
   ],
   "source": [
    "reference = create_reference()\n",
    "insertDate = datetime(2017,12,31).strftime(\"+%Y-%m-%dT00:00:00Z\")\n",
    "qualfier = create_qualifier(insertDate)\n",
    "statement = [wdi_core.WDQuantity(value=23797, prop_nr=\"P1082\", references=[copy.deepcopy(reference)], \n",
    "                                 rank='preferred', qualifiers=copy.deepcopy(qualfier), check_qualifier_equality=False)]\n",
    "# Q von Höngg --> quartier\n",
    "wd_item = wdi_core.WDItemEngine(data=statement,wd_item_id='Q455496', new_item=False, fast_run=False, append_value=['P1082'])\n",
    "wd_item.write(login)"
   ]
  },
  {
   "cell_type": "code",
   "execution_count": null,
   "metadata": {},
   "outputs": [],
   "source": []
  }
 ],
 "metadata": {
  "kernelspec": {
   "display_name": "Python 3",
   "language": "python",
   "name": "python3"
  },
  "language_info": {
   "codemirror_mode": {
    "name": "ipython",
    "version": 3
   },
   "file_extension": ".py",
   "mimetype": "text/x-python",
   "name": "python",
   "nbconvert_exporter": "python",
   "pygments_lexer": "ipython3",
   "version": "3.7.1"
  }
 },
 "nbformat": 4,
 "nbformat_minor": 2
}

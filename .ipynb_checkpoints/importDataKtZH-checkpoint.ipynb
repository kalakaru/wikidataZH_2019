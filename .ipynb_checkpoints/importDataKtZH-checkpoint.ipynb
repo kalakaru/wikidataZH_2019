{
 "cells": [
  {
   "cell_type": "code",
   "execution_count": 2,
   "metadata": {
    "scrolled": true
   },
   "outputs": [
    {
     "name": "stdout",
     "output_type": "stream",
     "text": [
      "Requirement already satisfied: pandas in /anaconda3/lib/python3.6/site-packages (0.23.0)\n",
      "Requirement already satisfied: python-dateutil>=2.5.0 in /anaconda3/lib/python3.6/site-packages (from pandas) (2.7.3)\n",
      "Requirement already satisfied: pytz>=2011k in /anaconda3/lib/python3.6/site-packages (from pandas) (2018.4)\n",
      "Requirement already satisfied: numpy>=1.9.0 in /anaconda3/lib/python3.6/site-packages (from pandas) (1.14.3)\n",
      "Requirement already satisfied: six>=1.5 in /anaconda3/lib/python3.6/site-packages (from python-dateutil>=2.5.0->pandas) (1.11.0)\n",
      "Requirement already satisfied: requests in /anaconda3/lib/python3.6/site-packages (2.18.4)\n",
      "Requirement already satisfied: chardet<3.1.0,>=3.0.2 in /anaconda3/lib/python3.6/site-packages (from requests) (3.0.4)\n",
      "Requirement already satisfied: idna<2.7,>=2.5 in /anaconda3/lib/python3.6/site-packages (from requests) (2.6)\n",
      "Requirement already satisfied: urllib3<1.23,>=1.21.1 in /anaconda3/lib/python3.6/site-packages (from requests) (1.22)\n",
      "Requirement already satisfied: certifi>=2017.4.17 in /anaconda3/lib/python3.6/site-packages (from requests) (2018.4.16)\n"
     ]
    }
   ],
   "source": [
    "!pip install pandas\n",
    "\n",
    "!pip install requests\n",
    "\n",
    "\n",
    "import requests\n",
    "import pandas as pd\n",
    "import zipfile"
   ]
  },
  {
   "cell_type": "code",
   "execution_count": 3,
   "metadata": {},
   "outputs": [
    {
     "name": "stdout",
     "output_type": "stream",
     "text": [
      "['data_1784847.csv', 'metainfo_1784847.csv']\n",
      "    BFS_NR;GEBIET_NAME;2018;2017;2016;2015;2014;2013;2012;2011;2010;2009;2008;2007;2006;2005;2004;2003;2002;2001;2000;1999;1998;1997;1996;1995;1994;1993;1992;1991;1990;1989;1988;1987;1986;1985;1984;1983;1982;1981;1980;1979;1978;1977;1976;1975;1974;1973;1972;1971;1970;1969;1968;1967;1966;1965;1964;1963;1962;\n",
      "0    21;Adlikon;707;655;662;662;609;573;562;579;577...                                                                                                                                                                                                                                                              \n",
      "1    131;Adliswil;18681;18731;18651;18551;18381;182...                                                                                                                                                                                                                                                              \n",
      "2    241;Aesch ZH;1555;1341;1269;1198;1182;1183;115...                                                                                                                                                                                                                                                              \n",
      "3    1;Aeugst a.A.;1979;1934;1969;1986;1952;1970;19...                                                                                                                                                                                                                                                              \n",
      "4    2;Affoltern a.A.;12201;12080;11868;11695;11540...                                                                                                                                                                                                                                                              \n",
      "5    211;Altikon;705;674;653;655;657;635;618;619;60...                                                                                                                                                                                                                                                              \n",
      "6    30;Andelfingen;2207;2201;2221;2168;2154;2100;2...                                                                                                                                                                                                                                                              \n",
      "7    51;Bachenbülach;4159;4092;4058;4026;4064;4038;...                                                                                                                                                                                                                                                              \n",
      "8    81;Bachs;580;588;601;585;598;607;574;567;573;5...                                                                                                                                                                                                                                                              \n",
      "9    111;Bäretswil;5009;5026;5046;4958;4993;4900;49...                                                                                                                                                                                                                                                              \n",
      "10   52;Bassersdorf;11668;11593;11551;11561;11371;1...                                                                                                                                                                                                                                                              \n",
      "11   297;Bauma;4961;4925;4896;4837;4718;4650;4569;4...                                                                                                                                                                                                                                                              \n",
      "12   171;Bauma (bis 2014);null;null;null;null;4367;...                                                                                                                                                                                                                                                              \n",
      "13   22;Benken;855;857;858;859;824;828;823;819;799;...                                                                                                                                                                                                                                                              \n",
      "14   23;Berg a.I.;569;562;567;567;579;576;587;586;5...                                                                                                                                                                                                                                                              \n",
      "15   242;Birmensdorf;6497;6385;6274;6235;6167;6056;...                                                                                                                                                                                                                                                              \n",
      "16   3;Bonstetten;5539;5491;5422;5322;5279;5254;519...                                                                                                                                                                                                                                                              \n",
      "17   82;Boppelsen;1372;1365;1318;1317;1280;1304;127...                                                                                                                                                                                                                                                              \n",
      "18   213;Brütten;2009;2016;2021;2006;2031;2008;1985...                                                                                                                                                                                                                                                              \n",
      "19   112;Bubikon;7335;7194;7119;7027;6979;6936;6856...                                                                                                                                                                                                                                                              \n",
      "20   24;Buch a.I.;977;970;955;961;923;919;898;894;8...                                                                                                                                                                                                                                                              \n",
      "21   83;Buchs;6390;6303;6320;6269;6152;6174;6047;56...                                                                                                                                                                                                                                                              \n",
      "22   53;Bülach;20386;19817;19503;19342;18848;18348;...                                                                                                                                                                                                                                                              \n",
      "23   25;Dachsen;1916;1931;1988;1986;2001;1979;1955;...                                                                                                                                                                                                                                                              \n",
      "24   214;Dägerlen;1016;1012;992;1014;979;977;986;99...                                                                                                                                                                                                                                                              \n",
      "25   84;Dällikon;4134;4100;4067;3950;3899;3746;3722...                                                                                                                                                                                                                                                              \n",
      "26   85;Dänikon;1873;1869;1877;1888;1944;1946;1929;...                                                                                                                                                                                                                                                              \n",
      "27   215;Dättlikon;790;783;780;745;762;756;748;747;...                                                                                                                                                                                                                                                              \n",
      "28   86;Dielsdorf;5988;5940;5962;5917;5909;5871;578...                                                                                                                                                                                                                                                              \n",
      "29   243;Dietikon;27146;26936;26929;26633;26178;253...                                                                                                                                                                                                                                                              \n",
      "..                                                 ...                                                                                                                                                                                                                                                              \n",
      "146  159;Uetikon a.S.;6158;6145;6042;5981;5948;5879...                                                                                                                                                                                                                                                              \n",
      "147  248;Uitikon;4330;4239;4145;4107;3960;3912;3944...                                                                                                                                                                                                                                                              \n",
      "148  249;Unterengstringen;3877;3788;3744;3627;3568;...                                                                                                                                                                                                                                                              \n",
      "149  42;Unterstammheim (bis 2018);921;891;899;923;8...                                                                                                                                                                                                                                                              \n",
      "150  250;Urdorf;9833;9768;9641;9673;9611;9505;9456;...                                                                                                                                                                                                                                                              \n",
      "151  198;Uster;34647;34442;34216;33853;33383;33048;...                                                                                                                                                                                                                                                              \n",
      "152  43;Volken;362;337;336;339;339;305;311;307;310;...                                                                                                                                                                                                                                                              \n",
      "153  199;Volketswil;18597;18615;18499;18489;18384;1...                                                                                                                                                                                                                                                              \n",
      "154  293;Wädenswil;24321;24455;24427;24330;23977;23...                                                                                                                                                                                                                                                              \n",
      "155  142;Wädenswil (bis 2018);21591;21716;21686;215...                                                                                                                                                                                                                                                              \n",
      "156  120;Wald;9926;9758;9591;9421;9446;9314;9321;92...                                                                                                                                                                                                                                                              \n",
      "157  69;Wallisellen;16243;15855;15849;15603;15315;1...                                                                                                                                                                                                                                                              \n",
      "158  44;Waltalingen (bis 2018);656;654;657;675;675;...                                                                                                                                                                                                                                                              \n",
      "159  200;Wangen-Brüttisellen;7917;7892;7874;7742;76...                                                                                                                                                                                                                                                              \n",
      "160  70;Wasterkingen;554;574;559;573;568;572;547;54...                                                                                                                                                                                                                                                              \n",
      "161  102;Weiach;1809;1750;1471;1377;1153;1074;1076;...                                                                                                                                                                                                                                                              \n",
      "162  251;Weiningen;4816;4760;4748;4510;4407;4340;42...                                                                                                                                                                                                                                                              \n",
      "163  180;Weisslingen;3384;3301;3264;3255;3236;3208;...                                                                                                                                                                                                                                                              \n",
      "164  14;Wettswil a.A.;5172;5097;5105;4920;4711;4633...                                                                                                                                                                                                                                                              \n",
      "165  121;Wetzikon;24764;24452;24564;24373;23887;236...                                                                                                                                                                                                                                                              \n",
      "166  298;Wiesendangen;6512;6355;6281;6226;6114;6039...                                                                                                                                                                                                                                                              \n",
      "167  71;Wil;1421;1407;1364;1375;1351;1312;1298;1296...                                                                                                                                                                                                                                                              \n",
      "168  181;Wila;1971;1975;1941;1926;1920;1916;1942;19...                                                                                                                                                                                                                                                              \n",
      "169  182;Wildberg;1002;994;980;1006;991;985;1002;98...                                                                                                                                                                                                                                                              \n",
      "170  72;Winkel;4507;4511;4364;4237;4163;4183;4084;3...                                                                                                                                                                                                                                                              \n",
      "171  230;Winterthur;111558;110570;109377;108044;106...                                                                                                                                                                                                                                                              \n",
      "172  231;Zell;6017;5929;5745;5690;5689;5637;5485;54...                                                                                                                                                                                                                                                              \n",
      "173  161;Zollikon;12996;12961;12779;12744;12517;123...                                                                                                                                                                                                                                                              \n",
      "174  160;Zumikon;5266;5120;5142;5168;5132;5164;5162...                                                                                                                                                                                                                                                              \n",
      "175  261;Zürich;413912;407447;401144;396027;390474;...                                                                                                                                                                                                                                                              \n",
      "\n",
      "[176 rows x 1 columns]\n"
     ]
    }
   ],
   "source": [
    "URL = \"https://www.web.statistik.zh.ch:8443/gp/GP?type=EXPORT&indikatoren=133&raumtyp=1&export=csv\"\n",
    "\n",
    "r = requests.get(url = URL)\n",
    "\n",
    "open('data/dataKt.zip', 'wb').write(r.content)\n",
    "\n",
    "zfile = zipfile.ZipFile('data/dataKt.zip')\n",
    "\n",
    "\n",
    "##for finfo in zfile.infolist():\n",
    "##    ifile = zfile.open(finfo)\n",
    "##    line_list = ifile.readlines()\n",
    "##    print(line_list)\n",
    "\n",
    "with zipfile.ZipFile('data/dataKt.zip', 'r') as f:\n",
    "    names = f.namelist()\n",
    "    \n",
    "print(names)\n",
    "\n",
    "        \n",
    "df = pd.read_csv(zfile.open(names[0]))\n",
    "print(df)"
   ]
  },
  {
   "cell_type": "code",
   "execution_count": null,
   "metadata": {},
   "outputs": [],
   "source": []
  }
 ],
 "metadata": {
  "kernelspec": {
   "display_name": "Python 3",
   "language": "python",
   "name": "python3"
  },
  "language_info": {
   "codemirror_mode": {
    "name": "ipython",
    "version": 3
   },
   "file_extension": ".py",
   "mimetype": "text/x-python",
   "name": "python",
   "nbconvert_exporter": "python",
   "pygments_lexer": "ipython3",
   "version": "3.6.5"
  }
 },
 "nbformat": 4,
 "nbformat_minor": 2
}
